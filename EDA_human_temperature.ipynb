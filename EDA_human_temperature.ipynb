{
 "cells": [
  {
   "cell_type": "markdown",
   "metadata": {},
   "source": [
    "# What is the True Normal Human Body Temperature? \n",
    "\n",
    "#### Background\n",
    "\n",
    "The mean normal body temperature was held to be 37$^{\\circ}$C or 98.6$^{\\circ}$F for more than 120 years since it was first conceptualized and reported by Carl Wunderlich in a famous 1868 book. But, is this value statistically correct?"
   ]
  },
  {
   "cell_type": "markdown",
   "metadata": {},
   "source": [
    "<h3>Exercises</h3>\n",
    "\n",
    "<p>In this exercise, you will analyze a dataset of human body temperatures and employ the concepts of hypothesis testing, confidence intervals, and statistical significance.</p>\n",
    "\n",
    "<p>Answer the following questions <b>in this notebook below and submit to your Github account</b>.</p> \n",
    "\n",
    "<ol>\n",
    "<li>  Is the distribution of body temperatures normal? \n",
    "    <ul>\n",
    "    <li> Although this is not a requirement for the Central Limit Theorem to hold (read the introduction on Wikipedia's page about the CLT carefully: https://en.wikipedia.org/wiki/Central_limit_theorem), it gives us some peace of mind that the population may also be normally distributed if we assume that this sample is representative of the population.\n",
    "    <li> Think about the way you're going to check for the normality of the distribution. Graphical methods are usually used first, but there are also other ways: https://en.wikipedia.org/wiki/Normality_test\n",
    "    </ul>\n",
    "<li>  Is the sample size large? Are the observations independent?\n",
    "    <ul>\n",
    "    <li> Remember that this is a condition for the Central Limit Theorem, and hence the statistical tests we are using, to apply.\n",
    "    </ul>\n",
    "<li>  Is the true population mean really 98.6 degrees F?\n",
    "    <ul>\n",
    "    <li> First, try a bootstrap hypothesis test.\n",
    "    <li> Now, let's try frequentist statistical testing. Would you use a one-sample or two-sample test? Why?\n",
    "    <li> In this situation, is it appropriate to use the $t$ or $z$ statistic? \n",
    "    <li> Now try using the other test. How is the result be different? Why?\n",
    "    </ul>\n",
    "<li>  Draw a small sample of size 10 from the data and repeat both frequentist tests. \n",
    "    <ul>\n",
    "    <li> Which one is the correct one to use? \n",
    "    <li> What do you notice? What does this tell you about the difference in application of the $t$ and $z$ statistic?\n",
    "    </ul>\n",
    "<li>  At what temperature should we consider someone's temperature to be \"abnormal\"?\n",
    "    <ul>\n",
    "    <li> As in the previous example, try calculating everything using the boostrap approach, as well as the frequentist approach.\n",
    "    <li> Start by computing the margin of error and confidence interval. When calculating the confidence interval, keep in mind that you should use the appropriate formula for one draw, and not N draws.\n",
    "    </ul>\n",
    "<li>  Is there a significant difference between males and females in normal temperature?\n",
    "    <ul>\n",
    "    <li> What testing approach did you use and why?\n",
    "    <li> Write a story with your conclusion in the context of the original problem.\n",
    "    </ul>\n",
    "</ol>\n",
    "\n",
    "You can include written notes in notebook cells using Markdown: \n",
    "   - In the control panel at the top, choose Cell > Cell Type > Markdown\n",
    "   - Markdown syntax: http://nestacms.com/docs/creating-content/markdown-cheat-sheet\n",
    "\n",
    "#### Resources\n",
    "\n",
    "+ Information and data sources: http://www.amstat.org/publications/jse/datasets/normtemp.txt, http://www.amstat.org/publications/jse/jse_data_archive.htm\n",
    "+ Markdown syntax: http://nestacms.com/docs/creating-content/markdown-cheat-sheet\n",
    "\n",
    "****"
   ]
  },
  {
   "cell_type": "code",
   "execution_count": 100,
   "metadata": {},
   "outputs": [],
   "source": [
    "\n",
    "import pandas as pd\n",
    "import numpy as np\n",
    "import seaborn as sns\n",
    "import matplotlib.pyplot as plt\n",
    "import scipy.stats as st\n",
    "\n",
    "np.random.seed(42)"
   ]
  },
  {
   "cell_type": "code",
   "execution_count": 101,
   "metadata": {},
   "outputs": [],
   "source": [
    "\n",
    "\n",
    "df = pd.read_csv('data/human_body_temperature.csv')"
   ]
  },
  {
   "cell_type": "markdown",
   "metadata": {},
   "source": [
    "### Shape of the data"
   ]
  },
  {
   "cell_type": "code",
   "execution_count": 102,
   "metadata": {},
   "outputs": [
    {
     "data": {
      "text/plain": [
       "(130, 3)"
      ]
     },
     "execution_count": 102,
     "metadata": {},
     "output_type": "execute_result"
    }
   ],
   "source": [
    "df.shape"
   ]
  },
  {
   "cell_type": "markdown",
   "metadata": {},
   "source": [
    "* Data cosists of 130 observations and 3 column variables."
   ]
  },
  {
   "cell_type": "code",
   "execution_count": 103,
   "metadata": {},
   "outputs": [
    {
     "data": {
      "text/html": [
       "<div>\n",
       "<style scoped>\n",
       "    .dataframe tbody tr th:only-of-type {\n",
       "        vertical-align: middle;\n",
       "    }\n",
       "\n",
       "    .dataframe tbody tr th {\n",
       "        vertical-align: top;\n",
       "    }\n",
       "\n",
       "    .dataframe thead th {\n",
       "        text-align: right;\n",
       "    }\n",
       "</style>\n",
       "<table border=\"1\" class=\"dataframe\">\n",
       "  <thead>\n",
       "    <tr style=\"text-align: right;\">\n",
       "      <th></th>\n",
       "      <th>temperature</th>\n",
       "      <th>gender</th>\n",
       "      <th>heart_rate</th>\n",
       "    </tr>\n",
       "  </thead>\n",
       "  <tbody>\n",
       "    <tr>\n",
       "      <th>0</th>\n",
       "      <td>99.3</td>\n",
       "      <td>F</td>\n",
       "      <td>68.0</td>\n",
       "    </tr>\n",
       "    <tr>\n",
       "      <th>1</th>\n",
       "      <td>98.4</td>\n",
       "      <td>F</td>\n",
       "      <td>81.0</td>\n",
       "    </tr>\n",
       "    <tr>\n",
       "      <th>2</th>\n",
       "      <td>97.8</td>\n",
       "      <td>M</td>\n",
       "      <td>73.0</td>\n",
       "    </tr>\n",
       "    <tr>\n",
       "      <th>3</th>\n",
       "      <td>99.2</td>\n",
       "      <td>F</td>\n",
       "      <td>66.0</td>\n",
       "    </tr>\n",
       "    <tr>\n",
       "      <th>4</th>\n",
       "      <td>98.0</td>\n",
       "      <td>F</td>\n",
       "      <td>73.0</td>\n",
       "    </tr>\n",
       "  </tbody>\n",
       "</table>\n",
       "</div>"
      ],
      "text/plain": [
       "   temperature gender  heart_rate\n",
       "0         99.3      F        68.0\n",
       "1         98.4      F        81.0\n",
       "2         97.8      M        73.0\n",
       "3         99.2      F        66.0\n",
       "4         98.0      F        73.0"
      ]
     },
     "execution_count": 103,
     "metadata": {},
     "output_type": "execute_result"
    }
   ],
   "source": [
    "df.head()"
   ]
  },
  {
   "cell_type": "code",
   "execution_count": 104,
   "metadata": {},
   "outputs": [
    {
     "name": "stdout",
     "output_type": "stream",
     "text": [
      "<class 'pandas.core.frame.DataFrame'>\n",
      "RangeIndex: 130 entries, 0 to 129\n",
      "Data columns (total 3 columns):\n",
      "temperature    130 non-null float64\n",
      "gender         130 non-null object\n",
      "heart_rate     130 non-null float64\n",
      "dtypes: float64(2), object(1)\n",
      "memory usage: 3.1+ KB\n"
     ]
    }
   ],
   "source": [
    "df.info()"
   ]
  },
  {
   "cell_type": "markdown",
   "metadata": {},
   "source": [
    "* Data consists of 3 columns - 2 of them are Numeric and the third is object.\n",
    "* There is no missing data. Every column has 130 entries\n",
    "* Gender column can probably be changed to a category"
   ]
  },
  {
   "cell_type": "code",
   "execution_count": 105,
   "metadata": {},
   "outputs": [
    {
     "data": {
      "text/html": [
       "<div>\n",
       "<style scoped>\n",
       "    .dataframe tbody tr th:only-of-type {\n",
       "        vertical-align: middle;\n",
       "    }\n",
       "\n",
       "    .dataframe tbody tr th {\n",
       "        vertical-align: top;\n",
       "    }\n",
       "\n",
       "    .dataframe thead th {\n",
       "        text-align: right;\n",
       "    }\n",
       "</style>\n",
       "<table border=\"1\" class=\"dataframe\">\n",
       "  <thead>\n",
       "    <tr style=\"text-align: right;\">\n",
       "      <th></th>\n",
       "      <th>temperature</th>\n",
       "      <th>heart_rate</th>\n",
       "    </tr>\n",
       "  </thead>\n",
       "  <tbody>\n",
       "    <tr>\n",
       "      <th>count</th>\n",
       "      <td>130.000000</td>\n",
       "      <td>130.000000</td>\n",
       "    </tr>\n",
       "    <tr>\n",
       "      <th>mean</th>\n",
       "      <td>98.249231</td>\n",
       "      <td>73.761538</td>\n",
       "    </tr>\n",
       "    <tr>\n",
       "      <th>std</th>\n",
       "      <td>0.733183</td>\n",
       "      <td>7.062077</td>\n",
       "    </tr>\n",
       "    <tr>\n",
       "      <th>min</th>\n",
       "      <td>96.300000</td>\n",
       "      <td>57.000000</td>\n",
       "    </tr>\n",
       "    <tr>\n",
       "      <th>25%</th>\n",
       "      <td>97.800000</td>\n",
       "      <td>69.000000</td>\n",
       "    </tr>\n",
       "    <tr>\n",
       "      <th>50%</th>\n",
       "      <td>98.300000</td>\n",
       "      <td>74.000000</td>\n",
       "    </tr>\n",
       "    <tr>\n",
       "      <th>75%</th>\n",
       "      <td>98.700000</td>\n",
       "      <td>79.000000</td>\n",
       "    </tr>\n",
       "    <tr>\n",
       "      <th>max</th>\n",
       "      <td>100.800000</td>\n",
       "      <td>89.000000</td>\n",
       "    </tr>\n",
       "  </tbody>\n",
       "</table>\n",
       "</div>"
      ],
      "text/plain": [
       "       temperature  heart_rate\n",
       "count   130.000000  130.000000\n",
       "mean     98.249231   73.761538\n",
       "std       0.733183    7.062077\n",
       "min      96.300000   57.000000\n",
       "25%      97.800000   69.000000\n",
       "50%      98.300000   74.000000\n",
       "75%      98.700000   79.000000\n",
       "max     100.800000   89.000000"
      ]
     },
     "execution_count": 105,
     "metadata": {},
     "output_type": "execute_result"
    }
   ],
   "source": [
    "df.describe()"
   ]
  },
  {
   "cell_type": "markdown",
   "metadata": {},
   "source": [
    "#### Categorical Data"
   ]
  },
  {
   "cell_type": "code",
   "execution_count": 106,
   "metadata": {},
   "outputs": [],
   "source": [
    "df['gender']=df['gender'].astype('category')"
   ]
  },
  {
   "cell_type": "markdown",
   "metadata": {},
   "source": [
    "#### Checking for any outliers"
   ]
  },
  {
   "cell_type": "code",
   "execution_count": 107,
   "metadata": {},
   "outputs": [
    {
     "data": {
      "text/plain": [
       "<matplotlib.axes._subplots.AxesSubplot at 0x1df21249320>"
      ]
     },
     "execution_count": 107,
     "metadata": {},
     "output_type": "execute_result"
    },
    {
     "data": {
      "image/png": "[encoded data removed]",
      "text/plain": [
       "<Figure size 1080x360 with 2 Axes>"
      ]
     },
     "metadata": {},
     "output_type": "display_data"
    }
   ],
   "source": [
    "# Box plots of the numeric columns\n",
    "f, axes = plt.subplots(1, 2, figsize=(15, 5))\n",
    "sns.boxplot(x='gender', y='temperature', data = df, ax=axes[0])\n",
    "sns.boxplot(x='gender', y='heart_rate', data = df, ax=axes[1])"
   ]
  },
  {
   "cell_type": "code",
   "execution_count": 108,
   "metadata": {},
   "outputs": [
    {
     "data": {
      "image/png": "[encoded data removed]",
      "text/plain": [
       "<Figure size 1296x360 with 3 Axes>"
      ]
     },
     "metadata": {},
     "output_type": "display_data"
    }
   ],
   "source": [
    "# Scatter and swarm plots \n",
    "f, axes = plt.subplots(1, 3, figsize=(18, 5))\n",
    "axes[0].scatter(df[df.gender=='F'].temperature, df[df.gender=='F'].heart_rate)\n",
    "axes[0].scatter(df[df.gender=='M'].temperature, df[df.gender=='M'].heart_rate)\n",
    "axes[0].set(title='Heart Rate vs. Temperature', xlabel='Temperature (deg F)', ylabel='Heart Rate')\n",
    "axes[0].legend(('Female', 'Male'))\n",
    "sns.swarmplot(x='gender', y='heart_rate', data = df, ax=axes[1])\n",
    "axes[1].set(title='Heart Rate Distribution', xlabel='Gender', ylabel='Heart Rate')\n",
    "sns.swarmplot(x='gender', y='temperature', data = df, ax=axes[2])\n",
    "_ = axes[2].set(title='Temperature Distribution', xlabel='Gender', ylabel='Temperature')"
   ]
  },
  {
   "cell_type": "markdown",
   "metadata": {},
   "source": [
    "#### Observations\n",
    "\n",
    "* Female tends to have higher average body temperature and heart rate compared to Male\n",
    "* There doesnt seem to be any correlation between Temperature and Heart Rate\n",
    "* Higher spread/Larger variance in the Heart Rate in Female\n",
    "* Box plot marks 4 outlier points in Female temperature (100.8 and 3 temperature < 97 F). However, those seem to be valid body temperature points. Hence, we will not remove them"
   ]
  },
  {
   "cell_type": "code",
   "execution_count": null,
   "metadata": {},
   "outputs": [],
   "source": []
  },
  {
   "cell_type": "code",
   "execution_count": null,
   "metadata": {},
   "outputs": [],
   "source": []
  },
  {
   "cell_type": "markdown",
   "metadata": {},
   "source": [
    "### 1 Is the distribution of body temperatures normal?"
   ]
  },
  {
   "cell_type": "code",
   "execution_count": 109,
   "metadata": {},
   "outputs": [
    {
     "name": "stdout",
     "output_type": "stream",
     "text": [
      "Mean of Temperature = 98.25\n",
      "STD of Temperature = 0.730\n"
     ]
    }
   ],
   "source": [
    "# Mean and STD of the input data\n",
    "mean_t, std_t = np.mean(df.temperature), np.std(df.temperature)\n",
    "print('Mean of Temperature = %.2f' %mean_t)\n",
    "print('STD of Temperature = %.3f' %std_t)"
   ]
  },
  {
   "cell_type": "markdown",
   "metadata": {},
   "source": [
    "#### Graphical Approach"
   ]
  },
  {
   "cell_type": "code",
   "execution_count": 110,
   "metadata": {},
   "outputs": [],
   "source": [
    "def ecdf(data):\n",
    "    '''Returns the ecdf of the input data'''\n",
    "    x = np.sort(data)\n",
    "    y = np.arange(1, len(data)+1)/len(data)\n",
    "    return x, y"
   ]
  },
  {
   "cell_type": "code",
   "execution_count": 111,
   "metadata": {},
   "outputs": [
    {
     "data": {
      "image/png": "[encoded data removed]",
      "text/plain": [
       "<Figure size 720x504 with 1 Axes>"
      ]
     },
     "metadata": {},
     "output_type": "display_data"
    }
   ],
   "source": [
    "mean_t = np.mean(df.temperature)\n",
    "std_t = np.std(df.temperature)\n",
    "plt.figure(figsize=(10,7))\n",
    "x=np.arange(95, 102, 0.1)\n",
    "y=1/np.sqrt(2*np.pi*std_t**2)*np.e**(-(x-mean_t)**2/(2*std_t**2))\n",
    "plt.plot(x,y)\n",
    "\n",
    "plt.hist(df.temperature, density=True, histtype='step', bins=40)\n",
    "plt.title='PDF'\n",
    "plt.xlabel='Temperature' \n",
    "plt.ylabel='PDF'\n",
    "\n",
    "plt.show()"
   ]
  },
  {
   "cell_type": "code",
   "execution_count": 112,
   "metadata": {},
   "outputs": [
    {
     "data": {
      "image/png": "[encoded data removed]",
      "text/plain": [
       "<Figure size 720x504 with 1 Axes>"
      ]
     },
     "metadata": {},
     "output_type": "display_data"
    }
   ],
   "source": [
    "samples = np.random.normal(mean_t, std_t, size=10000)\n",
    "x_theor, y_theor = ecdf(samples)\n",
    "x_obs, y_obs = ecdf(df.temperature)\n",
    "\n",
    "plt.figure(figsize=(10,7))\n",
    "plt.plot(x_theor, y_theor, marker='.', linestyle='none')\n",
    "plt.plot(x_obs, y_obs, marker='.', linestyle='none')\n",
    "plt.title='ECDF'\n",
    "plt.xlabel='Temperature'\n",
    "plt.ylabel='ECDF'\n",
    "plt.show()"
   ]
  },
  {
   "cell_type": "code",
   "execution_count": null,
   "metadata": {},
   "outputs": [],
   "source": []
  },
  {
   "cell_type": "markdown",
   "metadata": {},
   "source": [
    "* Number of sample points = 130 (very low), due to which, we see binning bias. Hence, pdf plot is not the best way to check for normal distribution.\n",
    "* However, from the ECDF plot above, the curves seem to overlap reasonably well. So, the distribution could be normal"
   ]
  },
  {
   "cell_type": "code",
   "execution_count": null,
   "metadata": {},
   "outputs": [],
   "source": []
  },
  {
   "cell_type": "code",
   "execution_count": null,
   "metadata": {},
   "outputs": [],
   "source": []
  },
  {
   "cell_type": "code",
   "execution_count": null,
   "metadata": {},
   "outputs": [],
   "source": []
  },
  {
   "cell_type": "code",
   "execution_count": null,
   "metadata": {},
   "outputs": [],
   "source": []
  },
  {
   "cell_type": "markdown",
   "metadata": {},
   "source": [
    "### 2 Is the sample size large? Are the observations independent?"
   ]
  },
  {
   "cell_type": "markdown",
   "metadata": {},
   "source": [
    "* Sample size = 130. Large enough for Normal approximation via Central Limit Theorem (CLT requires n>30)\n",
    "* Observations are obtained from different people at different time instances and can be treated as independent"
   ]
  },
  {
   "cell_type": "markdown",
   "metadata": {},
   "source": [
    "### 3 Is the true population mean really 98.6 degrees F\n",
    "* First, try a bootstrap hypothesis test.\n",
    "* Now, let's try frequentist statistical testing. Would you use a one-sample or two-sample test? Why?\n",
    "* In this situation, is it appropriate to use the  tt  or  zz  statistic?\n",
    "* Now try using the other test. How is the result be different? Why?\n",
    "\n",
    "\n"
   ]
  },
  {
   "cell_type": "markdown",
   "metadata": {},
   "source": [
    "#### Bootstrap hypothesis test¶\n",
    "###### H0 = Null Hypothesis = True Mean Body Temperature = 98.6 degrees F\n",
    "\n",
    "* Use a one-sample test since we have 1 set of sample temperature data and 1 hypothesis value (98.6) that we are testing for\n",
    "* Since our H0 indicates mean = 98.6, we first shift the observed data such that the mean is 98.6"
   ]
  },
  {
   "cell_type": "code",
   "execution_count": 113,
   "metadata": {},
   "outputs": [],
   "source": [
    "def draw_bs_rep(data, func, size=1):\n",
    "    '''Returns size number of bootstrap replicates defined by func using the samples from data '''\n",
    "    bs_reps = np.empty(size)\n",
    "    for i in range(size):\n",
    "        bs_sample = np.random.choice(data, len(data))\n",
    "        bs_reps[i] = func(bs_sample)\n",
    "    return bs_reps\n"
   ]
  },
  {
   "cell_type": "code",
   "execution_count": 114,
   "metadata": {},
   "outputs": [
    {
     "name": "stdout",
     "output_type": "stream",
     "text": [
      "Mean Observed = 98.25\n",
      "p-value for the observed mean = 0.000e+00\n"
     ]
    }
   ],
   "source": [
    "# one-sample bootstrap testing H0 that the mean body temperature = 98.6\n",
    "mean_obs, mean_h0 = np.mean(df.temperature), 98.6\n",
    "temperature_shifted = df.temperature - mean_obs + mean_h0  # Shifting such that mean of data = 98.6\n",
    "temperature_bs_reps = draw_bs_rep(temperature_shifted, np.mean, 50000) \n",
    "p = np.sum(temperature_bs_reps<=mean_obs)/len(temperature_bs_reps)\n",
    "print('Mean Observed = %.2f' %mean_obs)\n",
    "print('p-value for the observed mean = %.3e' %p)"
   ]
  },
  {
   "cell_type": "markdown",
   "metadata": {},
   "source": [
    "#### Confidence interval of the observed mean\n"
   ]
  },
  {
   "cell_type": "code",
   "execution_count": 115,
   "metadata": {},
   "outputs": [
    {
     "name": "stdout",
     "output_type": "stream",
     "text": [
      "Mean Observed = 98.25\n",
      "95%   Confidence interval of Observed Mean = [98.12, 98.37]\n",
      "99%   Confidence interval of Observed Mean = [98.08, 98.41]\n",
      "99.9% Confidence interval of Observed Mean = [98.04, 98.46]\n"
     ]
    }
   ],
   "source": [
    "# Obtaining various confidence intervals for the observed mean\n",
    "temperature_bs_reps = draw_bs_rep(df.temperature, np.mean, 50000)\n",
    "conf_interval = np.percentile(temperature_bs_reps, [0.05, 0.5, 2.5, 97.5, 99.5, 99.95])\n",
    "print('Mean Observed = %.2f' %mean_obs)\n",
    "print('95%%   Confidence interval of Observed Mean = [%.2f, %.2f]' %(conf_interval[2], conf_interval[3]))\n",
    "print('99%%   Confidence interval of Observed Mean = [%.2f, %.2f]' %(conf_interval[1], conf_interval[4]))\n",
    "print('99.9%% Confidence interval of Observed Mean = [%.2f, %.2f]' %(conf_interval[0], conf_interval[5]))"
   ]
  },
  {
   "cell_type": "markdown",
   "metadata": {},
   "source": [
    "#### Observations\n",
    "* Very low p-value (close to 0) indicates that the observed mean is very unlikely (0-probability) if we were to assume H0 is true. This seems to indicate that our H0 hypothesis might be incorrect\n",
    "* In line with the low-p value, the hypothesised temperature 98.6 is outside the 99.9% confidence interval of the observed mean, which again indicates that our H0 hypothesis might be incorrect\n",
    "* there are might be other correlated factors that could have biased these observations?\n",
    "\n",
    "#### Frequentist Statistical Testing\n",
    "* Use a one-sample test since we have 1 set of sample temperature data and 1 hypothesis value (98.6) that we are testing for\n",
    "* We do not have the true standard deviation, and hence we would use the standard deviation obtained from the observed data samples. Thus, it would make more sense to use t-statistic. However, since number of samples n>30 both z and t statistic should give more or less identical result\n",
    "\n",
    "#### Analysis using Z-statistic\n",
    "z-statistic = (mean observed - H0)/(std of temperature) std of temperature ~ (std of observed data)/sqrt(n)"
   ]
  },
  {
   "cell_type": "code",
   "execution_count": 116,
   "metadata": {},
   "outputs": [
    {
     "name": "stdout",
     "output_type": "stream",
     "text": [
      "Z statistic for the observed data assuming H0 = 98.6 = -5.476\n",
      "p-value using z-statistic table = Probability (z <= -5.476) = 4.352e-08\n"
     ]
    }
   ],
   "source": [
    "# Computing p-value of the observed data using z-statistics\n",
    "zt_statistic = (mean_obs-mean_h0)/np.std(df.temperature)*np.sqrt(len(df.temperature))\n",
    "print('Z statistic for the observed data assuming H0 = 98.6 = %.3f' %zt_statistic)\n",
    "print('p-value using z-statistic table = Probability (z <= %.3f) = %.3e' %(zt_statistic, 2*st.norm.cdf(zt_statistic)))"
   ]
  },
  {
   "cell_type": "markdown",
   "metadata": {},
   "source": [
    "#### Analysis using t-statistic\n",
    "\n",
    "t-statisitic requires another input = degrees of freedom. The degrees of freedom for t-statistic = 130 (number of observations)\n"
   ]
  },
  {
   "cell_type": "code",
   "execution_count": 117,
   "metadata": {},
   "outputs": [
    {
     "name": "stdout",
     "output_type": "stream",
     "text": [
      "T statistic for the observed data assuming H0 = 98.6 = -5.476\n",
      "p-value using t-statistic table = Probability (t <= -5.476) = 2.165e-07\n"
     ]
    }
   ],
   "source": [
    "# Computing p-value of the observed data using t-statistics\n",
    "print('T statistic for the observed data assuming H0 = 98.6 = %.3f' %zt_statistic)\n",
    "print('p-value using t-statistic table = Probability (t <= %.3f) = %.3e' %(zt_statistic, 2*st.t.cdf(zt_statistic, len(df.temperature))))"
   ]
  },
  {
   "cell_type": "code",
   "execution_count": null,
   "metadata": {},
   "outputs": [],
   "source": []
  },
  {
   "cell_type": "markdown",
   "metadata": {},
   "source": [
    "### 4. Draw a small sample of size 10 from the data and repeat both frequentist tests.\n",
    "* Which one is the correct one to use?\n",
    "* What do you notice? What does this tell you about the difference in application of the  tt  and  zz  statistic?"
   ]
  },
  {
   "cell_type": "markdown",
   "metadata": {},
   "source": [
    "Unless the entire data set is normally distributed, the smaller sample set wouldnt be normally distributed. Hence t-statistic would be the right one to use.\n",
    "Problem Statement: Using a sample size of 10, what is the p-value to obtain 98.6 degree F"
   ]
  },
  {
   "cell_type": "code",
   "execution_count": 118,
   "metadata": {},
   "outputs": [],
   "source": [
    "sample_dataset = np.random.choice(df.temperature, 10) # Sample set of 10 temperatures\n"
   ]
  },
  {
   "cell_type": "code",
   "execution_count": 119,
   "metadata": {},
   "outputs": [
    {
     "name": "stdout",
     "output_type": "stream",
     "text": [
      "T/Z statistic for the observed data assuming H0 = 98.6 = -1.488\n",
      "p-value using z-statistic table = Probability (z <= -1.488) = 0.137\n",
      "p-value using t-statistic table = Probability (t <= -1.488) = 0.168\n"
     ]
    }
   ],
   "source": [
    "# Obtaining p-value from z-statistic and t-statistic table\n",
    "zt_statistic = (mean_obs-mean_h0)/np.std(sample_dataset)*np.sqrt(len(sample_dataset))\n",
    "print('T/Z statistic for the observed data assuming H0 = 98.6 = %.3f' %zt_statistic)\n",
    "print('p-value using z-statistic table = Probability (z <= %.3f) = %.3f' %(zt_statistic, 2*st.norm.cdf(zt_statistic)))\n",
    "print('p-value using t-statistic table = Probability (t <= %.3f) = %.3f' %(zt_statistic, 2*st.t.cdf(zt_statistic, len(sample_dataset))))"
   ]
  },
  {
   "cell_type": "markdown",
   "metadata": {},
   "source": [
    "#### Observations\n",
    "* Using smaller samples, our confidence value is low. Hence larger confidence interval. Thus, H0 hypothesis (true body temperature is 98.6) is true.\n",
    "* From the above, we can say that the z-statistic result tends to under-estimate the confidence interval and p-value. T-statistics compensates for the lower 'n' sample size."
   ]
  },
  {
   "cell_type": "code",
   "execution_count": null,
   "metadata": {},
   "outputs": [],
   "source": []
  },
  {
   "cell_type": "markdown",
   "metadata": {},
   "source": [
    "### 5. At what temperature should we consider someone's temperature to be \"abnormal\"?\n",
    "* As in the previous example, try calculating everything using the boostrap approach, as well as the frequentist approach.\n",
    "* Start by computing the margin of error and confidence interval. When calculating the confidence interval, keep in mind that you should use the appropriate formula for one draw, and not N draws."
   ]
  },
  {
   "cell_type": "markdown",
   "metadata": {},
   "source": [
    "#### Bootstrap Method\n",
    "* H0 hypothesis: The temberature is normal (or not abnormal)\n",
    "* Use two-tailed comparison, i.e., both too low and too high temperature considered 'abnormal'.\n",
    "* Let us consider a significance level of 5% to categorize someone's temperature as 'abnormal', i.e., abnormal if Pr(The temperature occuring assuming H0) < 5%\n",
    "\n",
    "#### Margin of Error and Confidence Interval"
   ]
  },
  {
   "cell_type": "code",
   "execution_count": 120,
   "metadata": {},
   "outputs": [
    {
     "name": "stdout",
     "output_type": "stream",
     "text": [
      "Margin of Error (Bootstrap Method) = 1.400\n",
      "95% Confidence interval of an Individuals Temperature (Bootstrap Method) = [96.70, 99.50]\n"
     ]
    }
   ],
   "source": [
    "# Bootstrapping. Here each bootstrap replicates are individual user temperature (not the mean of 130 users)\n",
    "temperature_bs_reps = np.empty(10000) # Generate bootstrap replicates from the provided data\n",
    "for i in range(10000): \n",
    "    temperature_bs_reps[i] = np.random.choice(df.temperature, 1) # For a single individual\n",
    "conf_interval = np.percentile(temperature_bs_reps, [2.5, 97.5])\n",
    "margin_of_error = (conf_interval[1]-conf_interval[0])*0.5\n",
    "print('Margin of Error (Bootstrap Method) = %.3f' %margin_of_error)\n",
    "print('95%% Confidence interval of an Individuals Temperature (Bootstrap Method) = [%.2f, %.2f]' %(conf_interval[0], conf_interval[1]))"
   ]
  },
  {
   "cell_type": "markdown",
   "metadata": {},
   "source": [
    "#### Frequentist Method\n",
    "\n",
    "###### Obtaining the 95% confidence interval for mean temperature.\n",
    "\n",
    "* confidence_interval = mean(data_set) +/- margin_of_error\n",
    "* where margin_of_error = z * std(data_set)/sqrt(num_samples_in_data_set)\n",
    "* where 'z' corresponds to the z-value required to obtain a 95% confidence level"
   ]
  },
  {
   "cell_type": "code",
   "execution_count": 121,
   "metadata": {},
   "outputs": [
    {
     "name": "stdout",
     "output_type": "stream",
     "text": [
      "Margin of Error (Frequentist Method) = 1.431\n",
      "95% Confidence interval of an Individuals Temperature (Frequentist Method) = [96.82, 99.68]\n"
     ]
    }
   ],
   "source": [
    "# Frequentist method to obtain the abnormal temperature\n",
    "z_value = st.norm.ppf(.975) # 95% confidence = 2.5% margin at either ends\n",
    "margin_of_error = z_value*np.std(df.temperature)/1.0\n",
    "conf_interval = [np.mean(df.temperature)-margin_of_error, np.mean(df.temperature)+margin_of_error]\n",
    "print('Margin of Error (Frequentist Method) = %.3f' %margin_of_error)\n",
    "print('95%% Confidence interval of an Individuals Temperature (Frequentist Method) = [%.2f, %.2f]' %(conf_interval[0], conf_interval[1]))"
   ]
  },
  {
   "cell_type": "code",
   "execution_count": 122,
   "metadata": {},
   "outputs": [
    {
     "data": {
      "image/png": "[encoded data removed]",
      "text/plain": [
       "<Figure size 432x288 with 1 Axes>"
      ]
     },
     "metadata": {},
     "output_type": "display_data"
    }
   ],
   "source": [
    "#Plot to show the normal body temperature range\n",
    "mu, sigma = np.mean(df.temperature), np.std(df.temperature)\n",
    "x=np.arange(96, 101, 0.02)\n",
    "y=1/np.sqrt(2*np.pi*sigma**2)*np.e**(-(x-mu)**2/(2*sigma**2))\n",
    "plt.plot(x, y)\n",
    "plt.axvline(x=conf_interval[0], color='red')\n",
    "plt.axvline(x=conf_interval[1], color='Green')\n",
    "plt.title = \"Normal Body Temperature\"\n",
    "plt.xlabel = 'Temperature' \n",
    "plt.ylabel = 'PDF'\n",
    "plt.legend(('Theoretical', \"{0:.2f} F\".format(conf_interval[0]), \"{0:.2f} F\".format(conf_interval[1])))\n",
    "plt.show()"
   ]
  },
  {
   "cell_type": "markdown",
   "metadata": {},
   "source": [
    "#### Observations\n",
    "* We see a small difference in the values obtained by Bootstrap method and Frequentist Method. This is due to the granularity of the samples in the data. temperature_bs_reps contains only from the 130 values in the temperature array. And 2.5 and 97.5 percentile values are obtianed from temperature_bs_reps array.\n",
    "* The normal temperature range for an individual is the 95% confidence interval for an individual = [96.82,99.68] F"
   ]
  },
  {
   "cell_type": "markdown",
   "metadata": {},
   "source": [
    "### 6. Is there a significant difference between males and females in normal temperature?\n",
    "###### We saw early on that there was a difference in the mean temperatures between male and female. Is this difference significant?\n",
    "\n",
    "* H0: The mean temperature for male and female are same (Note: Nothing is claimed about the distribution. Hence, we have to sample male and female data separately)\n",
    "* We will use the two-sample bootstrap test and two-sample t-test to validate the above hypothesis\n",
    "* Permutation method cannot be used since male and female samples cannot be combined (distributions might be different)\n",
    "\n",
    "#### Two-sample Bootstrap"
   ]
  },
  {
   "cell_type": "code",
   "execution_count": 123,
   "metadata": {},
   "outputs": [
    {
     "name": "stdout",
     "output_type": "stream",
     "text": [
      "Mean Observed = 0.289\n",
      "p-value for the observed mean = 0.0226\n"
     ]
    }
   ],
   "source": [
    "# Two sample bootsrap. H0 = difference between male and female mean temperature are the same\n",
    "temperature_m, temperature_f = df[df.gender=='M'].temperature, df[df.gender=='F'].temperature\n",
    "mean_t, mean_m, mean_f = np.mean(df.temperature), np.mean(temperature_m), np.mean(temperature_f)\n",
    "# Shifting the distribution so that both male and female data have same mean temperature\n",
    "temperature_m_shifted = temperature_m - mean_m + mean_t \n",
    "temperature_f_shifted = temperature_f - mean_f + mean_t\n",
    "mean_diff_obs = mean_f-mean_m \n",
    "\n",
    "temperature_bs_reps_m = draw_bs_rep(temperature_m_shifted, np.mean, 50000)\n",
    "temperature_bs_reps_f = draw_bs_rep(temperature_f_shifted, np.mean, 50000)\n",
    "temperature_bs_reps = temperature_bs_reps_f-temperature_bs_reps_m\n",
    "p = np.sum(np.abs(temperature_bs_reps)>=np.abs(mean_diff_obs))/len(temperature_bs_reps)\n",
    "print('Mean Observed = %.3f' %mean_diff_obs)\n",
    "print('p-value for the observed mean = %.4f' %p)"
   ]
  },
  {
   "cell_type": "markdown",
   "metadata": {},
   "source": [
    "#### Two sample t-test (Frequentist Method)\n",
    "* H0: The mean temperature for male and female are same, i.e., t_m - t_f = 0\n",
    "* Goal is to compute the p-value for the observed data. If the p-value is low, then there is significant difference between men and women temperature\n",
    "* Observed mean difference = mean_diff_obs = t_m - t_f = 0.289\n",
    "* t-statistic = (mean_diff_obs - mean_h0)/std(temp_fm)* sqrt(n)\n",
    "* Here distribution temp_fm = temp_f - temp_m and n = 130/2 = 65"
   ]
  },
  {
   "cell_type": "code",
   "execution_count": 124,
   "metadata": {},
   "outputs": [
    {
     "name": "stdout",
     "output_type": "stream",
     "text": [
      "T statistic for the observed data = 2.303\n",
      "p-value using t-statistic table = Probability (t >= 2.303) = 0.023\n"
     ]
    }
   ],
   "source": [
    "\n",
    "std_f_minus_m = np.sqrt(np.var(temperature_m)/len(temperature_m) + np.var(temperature_f)/len(temperature_f))\n",
    "t_statistic = (mean_diff_obs - 0)/std_f_minus_m\n",
    "print('T statistic for the observed data = %.3f' %t_statistic)\n",
    "print('p-value using t-statistic table = Probability (t >= %.3f) = %.3f' %(t_statistic, 2*st.t.sf(t_statistic, len(df.temperature))))"
   ]
  },
  {
   "cell_type": "code",
   "execution_count": 126,
   "metadata": {},
   "outputs": [
    {
     "data": {
      "image/png": "[encoded data removed]",
      "text/plain": [
       "<Figure size 432x288 with 1 Axes>"
      ]
     },
     "metadata": {},
     "output_type": "display_data"
    }
   ],
   "source": [
    "# Plot of female and male temperature as a normal distribution\n",
    "mu_m, sigma_m = np.mean(temperature_m), np.std(temperature_m)\n",
    "mu_f, sigma_f = np.mean(temperature_f), np.std(temperature_f)\n",
    "x=np.arange(96, 101, 0.02)\n",
    "y_m=1/np.sqrt(2*np.pi*sigma_m**2)*np.e**(-(x-mu_m)**2/(2*sigma_m**2))\n",
    "y_f=1/np.sqrt(2*np.pi*sigma_f**2)*np.e**(-(x-mu_f)**2/(2*sigma_f**2))\n",
    "plt.plot(x, y_m, color='blue', label='Male')\n",
    "plt.plot(x, y_f, color='red', label='Female')\n",
    "plt.axvline(x=mu_m, linestyle='--', color='blue', label='Mean Male = {0:.2f} F'.format(mu_m))\n",
    "plt.axvline(x=mu_f, linestyle='--', color='red', label='Mean Female = {0:.2f} F'.format(mu_f))\n",
    "plt.title ='Normal Body Temperature'\n",
    "plt.xlabel = 'Temperature'\n",
    "plt.ylabel = 'PDF'\n",
    "plt.legend()\n",
    "plt.legend(('Male', 'Female', 'Mean Male = {0:.2f} F'.format(mu_m), \"Mean Female = {0:.2f} F\".format(mu_f)))\n",
    "plt.show()"
   ]
  },
  {
   "cell_type": "markdown",
   "metadata": {},
   "source": [
    "#### Observations\n",
    "* From the above, it seems like the observed statistic (female temperature-male temperature >0.29 F) is very unlikely (1.1%) if we were to assume H0 (both male and female avg temperatures are identical)\n",
    "* This leads us to conclude that the H0 hypothesis is not true and can be rejected. Average female body temperature is not equal to that of men"
   ]
  },
  {
   "cell_type": "code",
   "execution_count": null,
   "metadata": {},
   "outputs": [],
   "source": []
  },
  {
   "cell_type": "code",
   "execution_count": null,
   "metadata": {},
   "outputs": [],
   "source": []
  },
  {
   "cell_type": "code",
   "execution_count": null,
   "metadata": {},
   "outputs": [],
   "source": []
  },
  {
   "cell_type": "code",
   "execution_count": null,
   "metadata": {},
   "outputs": [],
   "source": []
  },
  {
   "cell_type": "code",
   "execution_count": null,
   "metadata": {},
   "outputs": [],
   "source": []
  },
  {
   "cell_type": "code",
   "execution_count": null,
   "metadata": {},
   "outputs": [],
   "source": []
  },
  {
   "cell_type": "code",
   "execution_count": null,
   "metadata": {},
   "outputs": [],
   "source": []
  },
  {
   "cell_type": "code",
   "execution_count": null,
   "metadata": {},
   "outputs": [],
   "source": []
  },
  {
   "cell_type": "code",
   "execution_count": null,
   "metadata": {},
   "outputs": [],
   "source": []
  },
  {
   "cell_type": "code",
   "execution_count": null,
   "metadata": {},
   "outputs": [],
   "source": []
  },
  {
   "cell_type": "code",
   "execution_count": null,
   "metadata": {},
   "outputs": [],
   "source": []
  },
  {
   "cell_type": "code",
   "execution_count": null,
   "metadata": {},
   "outputs": [],
   "source": []
  }
 ],
 "metadata": {
  "kernelspec": {
   "display_name": "Python 3",
   "language": "python",
   "name": "python3"
  },
  "language_info": {
   "codemirror_mode": {
    "name": "ipython",
    "version": 3
   },
   "file_extension": ".py",
   "mimetype": "text/x-python",
   "name": "python",
   "nbconvert_exporter": "python",
   "pygments_lexer": "ipython3",
   "version": "3.6.5"
  }
 },
 "nbformat": 4,
 "nbformat_minor": 1
}
